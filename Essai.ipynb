{
 "cells": [
  {
   "cell_type": "markdown",
   "metadata": {},
   "source": [
    "# Un premier titre\n",
    "\n",
    "Du texte normal ou en *italique*, ou bien encore en **gras**.\n",
    "Un lien hypertexte vers le [cours](https://www.wikipedia.fr)\n",
    "\n",
    "## Un second titre de deuxième niveau\n",
    "\n",
    "Voici un exemple d'image  :\n",
    "\n",
    "![Image](https://upload.wikimedia.org/wikipedia/commons/thumb/c/c3/Python-logo-notext.svg/76px-Python-logo-notext.svg.png)\n",
    "\n",
    "### Un titre de troisième niveau\n",
    "\n",
    "Du code informatique :\n",
    "```\n",
    "def ma_fonction(x,y):\n",
    "    return x + y \n",
    "```\n",
    "\n",
    "une liste:\n",
    "- premier élément\n",
    "- deuxième élément\n",
    "\n",
    "A simple illustration of the trapezoid rule for definite integration:\n",
    "\n",
    "$$\n",
    "\\int_{a}^{b} f(x)\\, dx \\approx \\frac{1}{2} \\sum_{k=1}^{N} \\left( x_{k} - x_{k-1} \\right) \\left( f(x_{k}) + f(x_{k-1}) \\right).\n",
    "$$\n",
    "<br>\n",
    "First, we define a simple function and sample it between 0 and 10 at 200 points"
   ]
  },
  {
   "cell_type": "code",
   "execution_count": 12,
   "metadata": {},
   "outputs": [
    {
     "name": "stdout",
     "output_type": "stream",
     "text": [
      "5\n"
     ]
    }
   ],
   "source": [
    "a=2\n",
    "b=3\n",
    "print(a+b)"
   ]
  },
  {
   "cell_type": "code",
   "execution_count": 13,
   "metadata": {},
   "outputs": [
    {
     "data": {
      "image/png": "[encoded data removed]",
      "text/plain": [
       "<Figure size 432x288 with 1 Axes>"
      ]
     },
     "metadata": {
      "needs_background": "light"
     },
     "output_type": "display_data"
    }
   ],
   "source": [
    "import numpy as np\n",
    "import matplotlib.pyplot as plt\n",
    "\n",
    "temps = [1, 2, 3, 4, 6, 7, 9]\n",
    "concentration = [5.5, 7.2, 11.8, 13.6, 19.1, 21.7, 29.4]\n",
    "plt.scatter(temps, concentration, marker='o', color = 'blue')\n",
    "plt.xlabel(\"Temps (h)\")\n",
    "plt.ylabel(\"Concentration (mg/L)\")\n",
    "plt.title(\"Concentration de produit en fonction du temps\")\n",
    "x = np.linspace(min(temps), max(temps), 50)\n",
    "y = 2 + 3 * x\n",
    "plt.plot(x, y, color='green', ls=\"--\")\n",
    "plt.grid()\n",
    "plt.savefig('concentration_vs_temps.png', bbox_inches='tight', dpi=200)"
   ]
  },
  {
   "cell_type": "code",
   "execution_count": 14,
   "metadata": {},
   "outputs": [
    {
     "name": "stdout",
     "output_type": "stream",
     "text": [
      "Package           Version\n",
      "----------------- -------\n",
      "attrs             19.3.0\n",
      "backcall          0.1.0\n",
      "bleach            3.1.5\n",
      "colorama          0.4.3\n",
      "cycler            0.10.0\n",
      "decorator         4.4.2\n",
      "defusedxml        0.6.0\n",
      "entrypoints       0.3\n",
      "ipykernel         5.3.0\n",
      "ipython           7.14.0\n",
      "ipython-genutils  0.2.0\n",
      "jedi              0.17.0\n",
      "Jinja2            2.11.2\n",
      "jsonschema        3.2.0\n",
      "jupyter-client    6.1.3\n",
      "jupyter-core      4.6.3\n",
      "kiwisolver        1.2.0\n",
      "MarkupSafe        1.1.1\n",
      "matplotlib        3.2.1\n",
      "mistune           0.8.4\n",
      "nbconvert         5.6.1\n",
      "nbformat          5.0.6\n",
      "notebook          6.0.3\n",
      "numpy             1.18.4\n",
      "packaging         20.4\n",
      "pandocfilters     1.4.2\n",
      "parso             0.7.0\n",
      "pickleshare       0.7.5\n",
      "pip               20.1.1\n",
      "prometheus-client 0.8.0\n",
      "prompt-toolkit    3.0.5\n",
      "Pygments          2.6.1\n",
      "pyparsing         2.4.7\n",
      "pyrsistent        0.16.0\n",
      "python-dateutil   2.8.1\n",
      "pywin32           227\n",
      "pywinpty          0.5.7\n",
      "pyzmq             19.0.1\n",
      "Send2Trash        1.5.0\n",
      "setuptools        41.2.0\n",
      "six               1.14.0\n",
      "terminado         0.8.3\n",
      "testpath          0.4.4\n",
      "tornado           6.0.4\n",
      "traitlets         4.3.3\n",
      "watermark         2.0.2\n",
      "wcwidth           0.1.9\n",
      "webencodings      0.5.1\n",
      "wheel             0.34.2\n"
     ]
    }
   ],
   "source": [
    "!pip list"
   ]
  },
  {
   "cell_type": "markdown",
   "metadata": {},
   "source": [
    "Voici une commande magic de Jupyter qui permet de faire apparaître laliste des commandes magiques"
   ]
  },
  {
   "cell_type": "code",
   "execution_count": 15,
   "metadata": {},
   "outputs": [
    {
     "data": {
      "application/json": {
       "cell": {
        "!": "OSMagics",
        "HTML": "Other",
        "SVG": "Other",
        "bash": "Other",
        "capture": "ExecutionMagics",
        "cmd": "Other",
        "debug": "ExecutionMagics",
        "file": "Other",
        "html": "DisplayMagics",
        "javascript": "DisplayMagics",
        "js": "DisplayMagics",
        "latex": "DisplayMagics",
        "markdown": "DisplayMagics",
        "perl": "Other",
        "prun": "ExecutionMagics",
        "pypy": "Other",
        "python": "Other",
        "python2": "Other",
        "python3": "Other",
        "ruby": "Other",
        "script": "ScriptMagics",
        "sh": "Other",
        "svg": "DisplayMagics",
        "sx": "OSMagics",
        "system": "OSMagics",
        "time": "ExecutionMagics",
        "timeit": "ExecutionMagics",
        "writefile": "OSMagics"
       },
       "line": {
        "alias": "OSMagics",
        "alias_magic": "BasicMagics",
        "autoawait": "AsyncMagics",
        "autocall": "AutoMagics",
        "automagic": "AutoMagics",
        "autosave": "KernelMagics",
        "bookmark": "OSMagics",
        "cd": "OSMagics",
        "clear": "KernelMagics",
        "cls": "KernelMagics",
        "colors": "BasicMagics",
        "conda": "PackagingMagics",
        "config": "ConfigMagics",
        "connect_info": "KernelMagics",
        "copy": "Other",
        "ddir": "Other",
        "debug": "ExecutionMagics",
        "dhist": "OSMagics",
        "dirs": "OSMagics",
        "doctest_mode": "BasicMagics",
        "echo": "Other",
        "ed": "Other",
        "edit": "KernelMagics",
        "env": "OSMagics",
        "gui": "BasicMagics",
        "hist": "Other",
        "history": "HistoryMagics",
        "killbgscripts": "ScriptMagics",
        "ldir": "Other",
        "less": "KernelMagics",
        "load": "CodeMagics",
        "load_ext": "ExtensionMagics",
        "loadpy": "CodeMagics",
        "logoff": "LoggingMagics",
        "logon": "LoggingMagics",
        "logstart": "LoggingMagics",
        "logstate": "LoggingMagics",
        "logstop": "LoggingMagics",
        "ls": "Other",
        "lsmagic": "BasicMagics",
        "macro": "ExecutionMagics",
        "magic": "BasicMagics",
        "matplotlib": "PylabMagics",
        "mkdir": "Other",
        "more": "KernelMagics",
        "notebook": "BasicMagics",
        "page": "BasicMagics",
        "pastebin": "CodeMagics",
        "pdb": "ExecutionMagics",
        "pdef": "NamespaceMagics",
        "pdoc": "NamespaceMagics",
        "pfile": "NamespaceMagics",
        "pinfo": "NamespaceMagics",
        "pinfo2": "NamespaceMagics",
        "pip": "PackagingMagics",
        "popd": "OSMagics",
        "pprint": "BasicMagics",
        "precision": "BasicMagics",
        "prun": "ExecutionMagics",
        "psearch": "NamespaceMagics",
        "psource": "NamespaceMagics",
        "pushd": "OSMagics",
        "pwd": "OSMagics",
        "pycat": "OSMagics",
        "pylab": "PylabMagics",
        "qtconsole": "KernelMagics",
        "quickref": "BasicMagics",
        "recall": "HistoryMagics",
        "rehashx": "OSMagics",
        "reload_ext": "ExtensionMagics",
        "ren": "Other",
        "rep": "Other",
        "rerun": "HistoryMagics",
        "reset": "NamespaceMagics",
        "reset_selective": "NamespaceMagics",
        "rmdir": "Other",
        "run": "ExecutionMagics",
        "save": "CodeMagics",
        "sc": "OSMagics",
        "set_env": "OSMagics",
        "store": "StoreMagics",
        "sx": "OSMagics",
        "system": "OSMagics",
        "tb": "ExecutionMagics",
        "time": "ExecutionMagics",
        "timeit": "ExecutionMagics",
        "unalias": "OSMagics",
        "unload_ext": "ExtensionMagics",
        "watermark": "WaterMark",
        "who": "NamespaceMagics",
        "who_ls": "NamespaceMagics",
        "whos": "NamespaceMagics",
        "xdel": "NamespaceMagics",
        "xmode": "BasicMagics"
       }
      },
      "text/plain": [
       "Available line magics:\n",
       "%alias  %alias_magic  %autoawait  %autocall  %automagic  %autosave  %bookmark  %cd  %clear  %cls  %colors  %conda  %config  %connect_info  %copy  %ddir  %debug  %dhist  %dirs  %doctest_mode  %echo  %ed  %edit  %env  %gui  %hist  %history  %killbgscripts  %ldir  %less  %load  %load_ext  %loadpy  %logoff  %logon  %logstart  %logstate  %logstop  %ls  %lsmagic  %macro  %magic  %matplotlib  %mkdir  %more  %notebook  %page  %pastebin  %pdb  %pdef  %pdoc  %pfile  %pinfo  %pinfo2  %pip  %popd  %pprint  %precision  %prun  %psearch  %psource  %pushd  %pwd  %pycat  %pylab  %qtconsole  %quickref  %recall  %rehashx  %reload_ext  %ren  %rep  %rerun  %reset  %reset_selective  %rmdir  %run  %save  %sc  %set_env  %store  %sx  %system  %tb  %time  %timeit  %unalias  %unload_ext  %watermark  %who  %who_ls  %whos  %xdel  %xmode\n",
       "\n",
       "Available cell magics:\n",
       "%%!  %%HTML  %%SVG  %%bash  %%capture  %%cmd  %%debug  %%file  %%html  %%javascript  %%js  %%latex  %%markdown  %%perl  %%prun  %%pypy  %%python  %%python2  %%python3  %%ruby  %%script  %%sh  %%svg  %%sx  %%system  %%time  %%timeit  %%writefile\n",
       "\n",
       "Automagic is ON, % prefix IS NOT needed for line magics."
      ]
     },
     "execution_count": 15,
     "metadata": {},
     "output_type": "execute_result"
    }
   ],
   "source": [
    "%lsmagic\n"
   ]
  },
  {
   "cell_type": "code",
   "execution_count": 16,
   "metadata": {},
   "outputs": [
    {
     "data": {
      "text/plain": [
       "'C:\\\\Users\\\\H'"
      ]
     },
     "execution_count": 16,
     "metadata": {},
     "output_type": "execute_result"
    }
   ],
   "source": [
    "%pwd\n"
   ]
  },
  {
   "cell_type": "code",
   "execution_count": 17,
   "metadata": {},
   "outputs": [
    {
     "name": "stdout",
     "output_type": "stream",
     "text": [
      " Le volume dans le lecteur C s'appelle OS\n",
      " Le num‚ro de s‚rie du volume est C045-8A5B\n",
      "\n",
      " R‚pertoire de C:\\Users\\H\n",
      "\n",
      "29/05/2020  03:33    <DIR>          .\n",
      "29/05/2020  03:33    <DIR>          ..\n",
      "08/11/2018  22:36    <DIR>          .cache\n",
      "08/11/2018  23:41    <DIR>          .dbus-keyrings\n",
      "14/12/2017  14:10    <DIR>          .idlerc\n",
      "28/05/2020  17:29    <DIR>          .ipynb_checkpoints\n",
      "10/05/2020  23:00    <DIR>          .ipython\n",
      "29/05/2020  02:58    <DIR>          .jupyter\n",
      "28/05/2020  21:17    <DIR>          .matplotlib\n",
      "16/05/2020  23:22    <DIR>          3D Objects\n",
      "29/05/2020  03:33            56ÿ400 concentration_vs_temps.png\n",
      "16/05/2020  23:22    <DIR>          Contacts\n",
      "29/05/2020  03:32    <DIR>          Desktop\n",
      "11/05/2020  14:05               992 Desktop.spam.txt\n",
      "16/05/2020  23:22    <DIR>          Documents\n",
      "29/05/2020  02:39    <DIR>          Downloads\n",
      "29/05/2020  03:33            33ÿ222 Essai.ipynb\n",
      "16/05/2020  23:22    <DIR>          Favorites\n",
      "16/05/2020  23:22    <DIR>          Links\n",
      "16/05/2020  23:22    <DIR>          Music\n",
      "24/05/2020  16:05    <DIR>          OneDrive\n",
      "16/05/2020  23:22    <DIR>          Pictures\n",
      "17/07/2019  00:09    <DIR>          PycharmProjects\n",
      "29/05/2020  03:17                 0 requirements.txt\n",
      "16/05/2020  23:22    <DIR>          Saved Games\n",
      "16/05/2020  23:22    <DIR>          Searches\n",
      "16/05/2020  23:22    <DIR>          Videos\n",
      "16/09/2018  03:33    <DIR>          Zotero\n",
      "               4 fichier(s)           90ÿ614 octets\n",
      "              24 R‚p(s)  806ÿ160ÿ691ÿ200 octets libres\n"
     ]
    }
   ],
   "source": [
    "%ls"
   ]
  },
  {
   "cell_type": "code",
   "execution_count": 18,
   "metadata": {},
   "outputs": [
    {
     "name": "stdout",
     "output_type": "stream",
     "text": [
      " Le volume dans le lecteur C s'appelle OS"
     ]
    },
    {
     "name": "stderr",
     "output_type": "stream",
     "text": [
      "Fichier introuvable\n"
     ]
    },
    {
     "name": "stdout",
     "output_type": "stream",
     "text": [
      "\n",
      " Le num‚ro de s‚rie du volume est C045-8A5B\n",
      "\n",
      " R‚pertoire de C:\\Users\\H\n",
      "\n"
     ]
    }
   ],
   "source": [
    "%ls -la\n"
   ]
  },
  {
   "cell_type": "code",
   "execution_count": 19,
   "metadata": {},
   "outputs": [
    {
     "data": {
      "text/html": [
       "<iframe src=\"https://learningapps.org/watch?app=9843336\" style=\"border:0px;width:100%;height:500px\" webkitallowfullscreen=\"true\" mozallowfullscreen=\"true\"></iframe>\n"
      ],
      "text/plain": [
       "<IPython.core.display.HTML object>"
      ]
     },
     "metadata": {},
     "output_type": "display_data"
    }
   ],
   "source": [
    "%%html\n",
    "<iframe src=\"https://learningapps.org/watch?app=9843336\" style=\"border:0px;width:100%;height:500px\" webkitallowfullscreen=\"true\" mozallowfullscreen=\"true\"></iframe>"
   ]
  },
  {
   "cell_type": "code",
   "execution_count": 20,
   "metadata": {},
   "outputs": [
    {
     "name": "stdout",
     "output_type": "stream",
     "text": [
      "4.71 ms ± 1.16 ms per loop (mean ± std. dev. of 7 runs, 100 loops each)\n"
     ]
    }
   ],
   "source": [
    "%%timeit\n",
    "carre=[x**2 for x in range(5000)]"
   ]
  },
  {
   "cell_type": "markdown",
   "metadata": {},
   "source": [
    "Le module **watermark** permet de donner les versions des autres modules utilisés dans le notebook Jupyter.\n",
    "J'ai choisi l'option -p pour ne faire apparaitre que les packages"
   ]
  },
  {
   "cell_type": "code",
   "execution_count": 26,
   "metadata": {
    "scrolled": true
   },
   "outputs": [
    {
     "name": "stdout",
     "output_type": "stream",
     "text": [
      "matplotlib 3.2.1\n",
      "numpy 1.18.4\n",
      "watermark 2.0.2\n"
     ]
    }
   ],
   "source": [
    "%load_ext watermark\n",
    "\n",
    "# python, ipython, packages, and machine characteristics\n",
    "%watermark -p matplotlib,numpy,watermark\n"
   ]
  },
  {
   "cell_type": "code",
   "execution_count": null,
   "metadata": {},
   "outputs": [],
   "source": []
  }
 ],
 "metadata": {
  "kernelspec": {
   "display_name": "Python 3",
   "language": "python",
   "name": "python3"
  },
  "language_info": {
   "codemirror_mode": {
    "name": "ipython",
    "version": 3
   },
   "file_extension": ".py",
   "mimetype": "text/x-python",
   "name": "python",
   "nbconvert_exporter": "python",
   "pygments_lexer": "ipython3",
   "version": "3.8.2"
  }
 },
 "nbformat": 4,
 "nbformat_minor": 4
}
